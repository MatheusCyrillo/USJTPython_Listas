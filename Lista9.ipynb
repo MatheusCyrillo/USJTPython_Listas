{
 "cells": [
  {
   "cell_type": "markdown",
   "metadata": {},
   "source": [
    "### Lista 9\n",
    "### Nome: Matheus Roberto Cyrillo\n",
    "### RA: 819158551"
   ]
  },
  {
   "cell_type": "markdown",
   "metadata": {},
   "source": [
    "### 1 Faça um Programa que peça o raio de um círculo, calcule e mostre sua área."
   ]
  },
  {
   "cell_type": "code",
   "execution_count": null,
   "metadata": {},
   "outputs": [],
   "source": [
    "raio = float(input(\"Digite o raio: \"))\n",
    "\n",
    "print((raio**2) * 3.14)"
   ]
  },
  {
   "cell_type": "markdown",
   "metadata": {},
   "source": [
    "### 2 Faça um Programa que calcule a área de um quadrado, em seguida mostre o dobro desta área para o usuário."
   ]
  },
  {
   "cell_type": "code",
   "execution_count": null,
   "metadata": {},
   "outputs": [],
   "source": [
    "lado = float(input(\"Digite o lado do quadrado: \"))\n",
    "\n",
    "print((lado * lado) * 2)"
   ]
  },
  {
   "cell_type": "markdown",
   "metadata": {},
   "source": [
    "### 3 Faça um Programa que pergunte quanto você ganha por hora e o número de horas trabalhadas no mês. Calcule e mostre o total do seu salário no referido mês."
   ]
  },
  {
   "cell_type": "code",
   "execution_count": null,
   "metadata": {},
   "outputs": [],
   "source": [
    "valorHoras = float(input(\"Quanto você ganha por hora: \"))\n",
    "qtdHoras = int(input(\"Quantas horas você trabalha por mês: \"))\n",
    "salario = valorHoras * qtdHoras\n",
    "\n",
    "print(\"Total: \" + str(salario))"
   ]
  },
  {
   "cell_type": "markdown",
   "metadata": {},
   "source": [
    "### 4 Faça um Programa que peça a temperatura em graus Farenheit, transforme e mostre a temperatura em graus Celsius. C = (5 * (F-32) / 9)."
   ]
  },
  {
   "cell_type": "code",
   "execution_count": null,
   "metadata": {},
   "outputs": [],
   "source": [
    "farenheit = float(input(\"Temperatura em Farenheit: \"))\n",
    "\n",
    "celsius = (5 * (farenheit-32) / 9)\n",
    "\n",
    "print(\"Temperatura em Celsius: \", celsius)"
   ]
  },
  {
   "cell_type": "markdown",
   "metadata": {},
   "source": [
    "### 5 Faça um Programa que peça a temperatura em graus Celsius, transforme e mostre em graus Farenheit."
   ]
  },
  {
   "cell_type": "code",
   "execution_count": null,
   "metadata": {},
   "outputs": [],
   "source": [
    "celsius = float(input(\"Temperatura em Celsius: \"))\n",
    "\n",
    "farenheit = ((celsius * 9/5) + 32)\n",
    "\n",
    "print(\"Temperatura em Farenheit: \", farenheit)"
   ]
  },
  {
   "cell_type": "markdown",
   "metadata": {},
   "source": [
    "### 6 Faça um Programa que peça 2 números inteiros e um número real. Calcule e mostre: - o produto do dobro do primeiro com metade do segundo .  - a soma do triplo do primeiro com o terceiro.  - o terceiro elevado ao cubo."
   ]
  },
  {
   "cell_type": "code",
   "execution_count": null,
   "metadata": {},
   "outputs": [],
   "source": [
    "n1 = int(input(\"Digite um número inteiro: \"))\n",
    "n2 = int(input(\"Digite um número inteiro: \"))\n",
    "n3 = float(input(\"Digite um número real: \"))\n",
    "\n",
    "print(2*n1 + (n2/2))\n",
    "print(3*n1 + n3)\n",
    "print(n3**3)\n"
   ]
  },
  {
   "cell_type": "markdown",
   "metadata": {},
   "source": [
    "### 7 João Papo-de-Pescador, homem de bem, comprou um microcomputador para controlar o rendimento diário de seu trabalho. Toda vez que ele traz um peso de peixes maior que o estabelecido pelo regulamento de pesca do estado de São Paulo (50 quilos) deve pagar uma multa de 4,00 reais por quilo excedente. João precisa que você faça um programa que leia a variável peso (peso de peixes) e verifique se há excesso. Se houver, gravar na variável excesso e na variável multa o valor da multa que João deverá pagar. Caso contrário mostrar tais variáveis com o conteúdo ZERO."
   ]
  },
  {
   "cell_type": "code",
   "execution_count": null,
   "metadata": {},
   "outputs": [],
   "source": [
    "pesoPeixe = float(input(\"Digite o peso do peixe: \"))\n",
    "valorPagar = 0\n",
    "excedido = 0\n",
    "\n",
    "if (pesoPeixe > 50):\n",
    "    excedido = pesoPeixe - 50\n",
    "    valorPagar = excedido * 4.0\n",
    "\n",
    "\n",
    "print(\"Peso excedente {}, total a pagar {}\".format(excedido, valorPagar))"
   ]
  },
  {
   "cell_type": "markdown",
   "metadata": {},
   "source": [
    "### 8 Faça um Programa que pergunte quanto você ganha por hora e o número de horas trabalhadas no mês. Calcule e mostre o total do seu salário no referido mês, sabendo-se que são descontados 11% para o Imposto de Renda, 8% para o INSS e 5% para o sindicato, faça um programa que nos dê:"
   ]
  },
  {
   "cell_type": "code",
   "execution_count": null,
   "metadata": {},
   "outputs": [],
   "source": [
    "valorHoras = float(input(\"Quanto você ganha por hora: \"))\n",
    "qtdHoras = int(input(\"Quantas horas você trabalha por mês: \"))\n",
    "\n",
    "salario_bruto = valorHoras * qtdHoras\n",
    "\n",
    "inss = salario_bruto * 0.08\n",
    "ir = salario_bruto * 0.11\n",
    "sid = salario_bruto * 0.11\n",
    "\n",
    "salario_liquido = salario_bruto - inss - ir - sid\n",
    "\n",
    "print(\"Bruto: {}, Liquido {}, INSS: {}, IR: {}, SID: {}\".format(salario_bruto, salario_liquido, inss, ir, sid))"
   ]
  },
  {
   "cell_type": "markdown",
   "metadata": {},
   "source": [
    "### 9 Faça um programa que leia 2 strings e informe o conteúdo delas seguido do seu comprimento. Informe também se as duas strings possuem o mesmo comprimento e são iguais ou diferentes no conteúdo."
   ]
  },
  {
   "cell_type": "code",
   "execution_count": null,
   "metadata": {},
   "outputs": [],
   "source": [
    "str1 = input(\"Digite a primeira String:\" )\n",
    "str2 = input(\"Digite a segunda String: \")\n",
    "\n",
    "taman = \"Tamanho Diferente\"\n",
    "content = \"Conteudo Diferente\"\n",
    "\n",
    "for i in list([str1, str2]):\n",
    "    print(i, len(i))\n",
    "    \n",
    "if len(str1) == len(str2):\n",
    "    taman = \"As duas String possuem o mesmo tamanho!\"\n",
    "if str1 == str2:\n",
    "    content = \"As duas String possuem o mesmo conteúdo!\"\n",
    "\n",
    "print(taman, content)\n",
    "    "
   ]
  },
  {
   "cell_type": "markdown",
   "metadata": {},
   "source": [
    "### 10 Faça um programa que permita ao usuário digitar o seu nome e em seguida mostre o nome do usuário de trás para frente utilizando somente letras maiúsculas. Dica: lembre−se que ao informar o nome o usuário pode digitar letras maiúsculas ou minúsculas. Observação: não use loops."
   ]
  },
  {
   "cell_type": "code",
   "execution_count": null,
   "metadata": {},
   "outputs": [],
   "source": [
    "nome = str(input(\"Digite seu nome: \")).upper()\n",
    "print(nome[::-1])"
   ]
  },
  {
   "cell_type": "markdown",
   "metadata": {},
   "source": [
    "### 11 Faça um programa que solicite a data de nascimento (dd/mm/aaaa) do usuário e imprima a data com o nome do mês por extenso."
   ]
  },
  {
   "cell_type": "code",
   "execution_count": null,
   "metadata": {},
   "outputs": [],
   "source": [
    "nascimento = str(input(\"Digite sua data de nascimento: \"))\n",
    "\n",
    "dict_mes = {1:\"Janeiro\", 2:\"Fevereiro\", 3:\"Marco\", 4:\"Abril\", 5:\"Maio\", 6:\"Junho\", 7:\"Julho\", 8:\"Agosto\",\n",
    "           9:\"Setembro\", 10:\"Outubro\", 11:\"Novembro\", 12:\"Dezembro\"}\n",
    "\n",
    "nascimento_list = nascimento.split(\"/\")\n",
    "\n",
    "print (\"Voce nasceu dia {} de {} de {}\".format(nascimento_list[0], dict_mes[int(nascimento_list[1])],nascimento_list[2]))\n"
   ]
  },
  {
   "cell_type": "markdown",
   "metadata": {},
   "source": [
    "### 12 Leet é uma forma de se escrever o alfabeto latino usando outros símbolos em lugar das letras, como números por exemplo. A própria palavra leet admite muitas variações, como l33t ou 1337. O uso do leet reflete uma subcultura relacionada ao mundo dos jogos de computador e internet, sendo muito usada para confundir os iniciantes e afirmar-se como parte de um grupo. Pesquise sobre as principais formas de traduzir as letras. Depois, faça um programa que peça uma texto e transforme-o para a grafia leet speak. Desafio: não use loops nem desvios condicionais."
   ]
  },
  {
   "cell_type": "code",
   "execution_count": null,
   "metadata": {},
   "outputs": [],
   "source": [
    "text = input(\"Insira o texto: \").upper()\n",
    "leet = {'A': '4','B':'8','C':'(','D':')','E':'3','F':'|=','G':'6','H':'#','I':'1','J':'|','K':'|<','L':'|','M':'|\\/|','N':'/\\/','O':'0','P':'|D','Q':'(,)','R':'|2','S':'5,$','T':'7','U':'()','V':'\\/ ','W':'\\/\\/','X':'><','Y':'¥','Z':'2'}\n",
    "\n",
    "teste = map(lambda key: key if key in leet[key] else leet[key], list(text))\n",
    "print(''.join(teste))"
   ]
  },
  {
   "cell_type": "markdown",
   "metadata": {},
   "source": [
    "13 Crie um programa que recebe uma lista de números e\n",
    "- retorne o maior elemento\n",
    "- retorne a soma dos elementos\n",
    "- retorne o número de ocorrências do primeiro elemento da lista\n",
    "- retorne a média dos elementos\n",
    "- retorne o valor mais próximo da média dos elementos\n",
    "\n",
    "- retorne a soma dos elementos com valor negativo\n",
    "- retorne a quantidade de vizinhos iguais"
   ]
  },
  {
   "cell_type": "code",
   "execution_count": null,
   "metadata": {},
   "outputs": [],
   "source": [
    "nums = [1, 2, 3, 4, 5, 6, 7, 8, 9, 10]\n",
    "\n",
    "print(nums.count(nums[0]))\n",
    "print (max(nums), min(nums), sum(nums))\n",
    "media = sum(nums) / len(nums)\n",
    "print(media)\n",
    "round(media)"
   ]
  },
  {
   "cell_type": "markdown",
   "metadata": {},
   "source": [
    "### 14 Faça um programa que receba duas listas e retorne True se são iguais ou False caso contrario. Duas listas são iguais se possuem os mesmos valores e na mesma ordem."
   ]
  },
  {
   "cell_type": "code",
   "execution_count": 127,
   "metadata": {},
   "outputs": [
    {
     "name": "stdout",
     "output_type": "stream",
     "text": [
      "False\n"
     ]
    }
   ],
   "source": [
    "def check_iguais(lista1, lista2):\n",
    "    if lista1 == lista2:\n",
    "        return True\n",
    "    return False\n",
    "\n",
    "lista_1 = [1, 2, 3, 4]\n",
    "lista_2 = [1, 2, 3, 4]\n",
    "\n",
    "print(check_iguais(lista_1, lista_2))"
   ]
  },
  {
   "cell_type": "markdown",
   "metadata": {},
   "source": [
    "### 15 Faça um programa que receba duas listas e retorne True se têm os mesmos elementos ou False caso contrário. Duas listas possuem os mesmos elementos quando são compostas pelos mesmos valores, mas não obrigatoriamente na mesma ordem."
   ]
  },
  {
   "cell_type": "code",
   "execution_count": 133,
   "metadata": {},
   "outputs": [
    {
     "name": "stdout",
     "output_type": "stream",
     "text": [
      "True\n"
     ]
    }
   ],
   "source": [
    "lista_1 = [1, 2, 3, 4]\n",
    "lista_2 = [1, 2, 3, 4]\n",
    "\n",
    "lista_final = list(set(lista_1) - set(lista_2))\n",
    "\n",
    "if len(lista_final) == 0:\n",
    "    print(True)\n",
    "else:\n",
    "    print(False)"
   ]
  },
  {
   "cell_type": "markdown",
   "metadata": {},
   "source": [
    "### 16 Faça um programa que percorre uma lista com o seguinte formato: [['Brasil','Italia', [10, 9]], ['Brasil', 'Espanha', [5, 7]], ['Italia', 'Espanha', [7,8]]]. Essa lista indica o número de faltas que cada time fez em cada jogo. Na lista acima, no jogo entre Brasil e Itália, o Brasil fez 10 faltas e a Itália fez 9. "
   ]
  },
  {
   "cell_type": "code",
   "execution_count": 137,
   "metadata": {},
   "outputs": [
    {
     "name": "stdout",
     "output_type": "stream",
     "text": [
      "['Italia'] ['Brasil', 'Espanha'] {'Brasil': 15, 'Italia': 16, 'Espanha': 15}\n"
     ]
    }
   ],
   "source": [
    "lista_jogos = [['Brasil','Italia', [10, 9]], ['Brasil', 'Espanha', [5, 7]], ['Italia', 'Espanha', [7,8]]]\n",
    "total_faltas = 0\n",
    "dict_times = {}\n",
    "\n",
    "menos_faltas = \"\"\n",
    "mais_faltas = \"\"\n",
    "\n",
    "for jogos in lista_jogos:\n",
    "    total_faltas = total_faltas + int(jogos[2][0]) + int(jogos[2][1])\n",
    "    for times, faltas in zip(jogos, jogos[2]):\n",
    "        lista_times.append(times)\n",
    "        if(dict_times.get(times)):\n",
    "            dict_times[times] = dict_times.get(times) + faltas\n",
    "        else:\n",
    "            dict_times[times] = faltas\n",
    "mais_faltas = []\n",
    "menos_faltas = []\n",
    "\n",
    "for k, v in dict_times.items():\n",
    "    if v == max(list(dict_times.values())):\n",
    "        mais_faltas.append(k)\n",
    "    if v == min(list(dict_times.values())):\n",
    "        menos_faltas.append(k)\n",
    "\n",
    "print(mais_faltas, menos_faltas, dict_times)"
   ]
  },
  {
   "cell_type": "markdown",
   "metadata": {},
   "source": [
    "### 17 Escreva um programa que conta a quantidade de vogais em uma string e armazena tal quantidade em um dicionário, onde a chave é a vogal considerada."
   ]
  },
  {
   "cell_type": "code",
   "execution_count": null,
   "metadata": {},
   "outputs": [],
   "source": [
    "texto = input(\"Digite uma palavra: \")\n",
    "vogais = [\"a\", \"e\", \"i\", \"o\", \"u\"]\n",
    "\n",
    "dict_vogais = {}\n",
    "for v in vogais:\n",
    "    if v in texto:\n",
    "        dict_vogais[v] = list(texto).count(v)\n",
    "print(dict_vogais)\n",
    "        \n"
   ]
  },
  {
   "cell_type": "markdown",
   "metadata": {},
   "source": [
    "### 18 Escreva um programa que lê̂duas notas de vários alunos e armazena tais notas em um dicionário, onde a chave é o nome do aluno. A entrada de dados deve terminar quando for lida uma string vazia como nome. Escreva uma função que retorna a média do aluno, dado seu nome."
   ]
  },
  {
   "cell_type": "code",
   "execution_count": null,
   "metadata": {},
   "outputs": [],
   "source": [
    "dict_notas = dict()\n",
    "str_text = \" \"\n",
    "\n",
    "def calcular_media(nome_aluno):\n",
    "    try:\n",
    "        lista_notas = dict_notas[nome_aluno]\n",
    "        media = sum(lista_notas) / len(lista_notas)\n",
    "        return media\n",
    "    except:\n",
    "        return False\n",
    "\n",
    "while str_text != \"\":\n",
    "    str_text = input(\"Digite um nome: \").upper()\n",
    "    if (str_text):\n",
    "        nota = int(input(\"Digite a nota: \"))\n",
    "        try:\n",
    "            dict_notas[str_text].append(nota)\n",
    "        except KeyError:\n",
    "            dict_notas[str_text] = [nota]\n",
    "    \n",
    "str_text = input(\"Digite o nome de quem deseja calcular a media: \").upper()\n",
    "media = calcular_media(str_text)\n",
    "\n",
    "print(dict_notas)\n",
    "print(\"Media do'a' {} e {}\".format(str_text, media))\n",
    "    "
   ]
  },
  {
   "cell_type": "markdown",
   "metadata": {},
   "source": [
    "### 20"
   ]
  },
  {
   "cell_type": "code",
   "execution_count": null,
   "metadata": {},
   "outputs": [],
   "source": [
    "\n",
    "\n"
   ]
  },
  {
   "cell_type": "code",
   "execution_count": null,
   "metadata": {},
   "outputs": [],
   "source": []
  }
 ],
 "metadata": {
  "kernelspec": {
   "display_name": "Python 3",
   "language": "python",
   "name": "python3"
  },
  "language_info": {
   "codemirror_mode": {
    "name": "ipython",
    "version": 3
   },
   "file_extension": ".py",
   "mimetype": "text/x-python",
   "name": "python",
   "nbconvert_exporter": "python",
   "pygments_lexer": "ipython3",
   "version": "3.7.3"
  }
 },
 "nbformat": 4,
 "nbformat_minor": 2
}
