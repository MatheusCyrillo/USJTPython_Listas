{
 "cells": [
  {
   "cell_type": "markdown",
   "metadata": {},
   "source": [
    "### Lista 11\n",
    "### Nome: Matheus Roberto Cyrillo\n",
    "### RA: 819158551"
   ]
  },
  {
   "cell_type": "markdown",
   "metadata": {},
   "source": [
    "### 1 Menor de dois pares: Escreva uma função que retorne o menor de dois números dados se ambos os números forem pares, mas retorna o maior se um dos dois for ímpar."
   ]
  },
  {
   "cell_type": "code",
   "execution_count": 1,
   "metadata": {},
   "outputs": [],
   "source": [
    "def menor_de_dois_pares(n1,n2):\n",
    "    if n1 % 2 == 0 and n2 % 2 == 0:\n",
    "        if n1 < n2:\n",
    "            return n1\n",
    "        else:\n",
    "            return n2\n",
    "    else:\n",
    "        if n1 < n2:\n",
    "            return n2"
   ]
  },
  {
   "cell_type": "code",
   "execution_count": 3,
   "metadata": {},
   "outputs": [
    {
     "name": "stdout",
     "output_type": "stream",
     "text": [
      "5\n"
     ]
    }
   ],
   "source": [
    "print(menor_de_dois_pares(2,5))"
   ]
  },
  {
   "cell_type": "markdown",
   "metadata": {},
   "source": [
    "### 2 Mesma letra: Escreva uma função que receba uma string com duas palavras e retorne True se ambas palavras começarem com a mesma letra."
   ]
  },
  {
   "cell_type": "code",
   "execution_count": 22,
   "metadata": {},
   "outputs": [],
   "source": [
    "def mesma_letra(p):\n",
    "    listaPalavras = p.split();\n",
    "    return listaPalavras[0][0].lower() == listaPalavras[1][0].lower()"
   ]
  },
  {
   "cell_type": "code",
   "execution_count": 23,
   "metadata": {},
   "outputs": [
    {
     "name": "stdout",
     "output_type": "stream",
     "text": [
      "True\n"
     ]
    }
   ],
   "source": [
    "print(mesma_letra('Cão Covarde'))"
   ]
  },
  {
   "cell_type": "markdown",
   "metadata": {},
   "source": [
    "### 3 Mestre Yoda: Dada uma sentença, a função deve retornar a sentença com as palavras na ordem reversa."
   ]
  },
  {
   "cell_type": "code",
   "execution_count": 50,
   "metadata": {},
   "outputs": [],
   "source": [
    "def mestre_yoda(p):\n",
    "    listaPalavras = list(p.split())\n",
    "    listaPalavras.reverse()\n",
    "    return \" \".join(map(str, listaPalavras))"
   ]
  },
  {
   "cell_type": "code",
   "execution_count": 51,
   "metadata": {},
   "outputs": [
    {
     "name": "stdout",
     "output_type": "stream",
     "text": [
      "casa em estou Eu\n"
     ]
    }
   ],
   "source": [
    "print(mestre_yoda('Eu estou em casa'))"
   ]
  },
  {
   "cell_type": "markdown",
   "metadata": {},
   "source": [
    "### 4 Tem 33: Faça uma função que retorne True se, dada uma lista de inteiros, houver em alguma posição da lista um 3 do lado de outro 3."
   ]
  },
  {
   "cell_type": "code",
   "execution_count": 57,
   "metadata": {},
   "outputs": [],
   "source": [
    "def tem_33(lista):\n",
    "    inteiroPassado = 0\n",
    "    for inteiro in lista:\n",
    "        if inteiroPassado == inteiro == 3:\n",
    "            return True\n",
    "        else:\n",
    "            inteiroPassado = inteiro\n",
    "    \n",
    "    return False"
   ]
  },
  {
   "cell_type": "code",
   "execution_count": 59,
   "metadata": {},
   "outputs": [
    {
     "name": "stdout",
     "output_type": "stream",
     "text": [
      "True\n"
     ]
    }
   ],
   "source": [
    "print(tem_33([1,3,3]))"
   ]
  },
  {
   "cell_type": "markdown",
   "metadata": {},
   "source": [
    "### 5 Blackjack: Faça uma função que receba 3 inteiros entre 1 e 11. Se a soma deles for menor que 21, retorne o valor da soma. Se for mair do que 21 e houver um 11, subtraia 10 da soma antes de apresentar o resultado. Se o valor da soma passar de 21, retorne ‘ESTOUROU’."
   ]
  },
  {
   "cell_type": "code",
   "execution_count": 73,
   "metadata": {},
   "outputs": [],
   "source": [
    "def blackjack(n1,n2,n3):\n",
    "    resultado = n1+n2+n3\n",
    "    if resultado > 21 and (n1 == 11 or n2 == 11 or n3 == 11):\n",
    "        resultado -= 10\n",
    "    \n",
    "    if resultado > 21:\n",
    "        return 'ESTOUROU'\n",
    "        \n",
    "    return resultado"
   ]
  },
  {
   "cell_type": "code",
   "execution_count": 74,
   "metadata": {},
   "outputs": [
    {
     "name": "stdout",
     "output_type": "stream",
     "text": [
      "19\n"
     ]
    }
   ],
   "source": [
    "print(blackjack(9,9,11))"
   ]
  },
  {
   "cell_type": "markdown",
   "metadata": {},
   "source": [
    "### 6 Espião: Escreva uma função que receba uma lista de inteiros e retorne True se contém um 007 em ordem, mesmo que não contínuo."
   ]
  },
  {
   "cell_type": "code",
   "execution_count": 78,
   "metadata": {},
   "outputs": [],
   "source": [
    "def espiao(lista):\n",
    "    agente = 0 \n",
    "    for inteiro in lista:\n",
    "        if inteiro == 0:\n",
    "            agente += 1\n",
    "            \n",
    "        if inteiro == 7:\n",
    "            if agente == 2:\n",
    "                return True\n",
    "            else:\n",
    "                agente = 0\n",
    "    \n",
    "    return False"
   ]
  },
  {
   "cell_type": "code",
   "execution_count": 83,
   "metadata": {},
   "outputs": [
    {
     "name": "stdout",
     "output_type": "stream",
     "text": [
      "True\n"
     ]
    }
   ],
   "source": [
    "print(espiao([1,2,4,0,0,7,5]))"
   ]
  },
  {
   "cell_type": "markdown",
   "metadata": {},
   "source": [
    "### 7 Linha: Crie a classe Linha que tem dois atributos, coordenada1 e coordenada2. Cada coordenada é uma tupla que carrega duas coordenadas cartesianas (x,y) que denotam pontos do segmento de reta. Faça métodos que calculem o comprimento do segmento de reta e sua inclinação."
   ]
  },
  {
   "cell_type": "code",
   "execution_count": 111,
   "metadata": {},
   "outputs": [],
   "source": [
    "class Linha():\n",
    "\n",
    "    def __init__(self,cordenada1,cordenada2):\n",
    "        self.cordenada1 = cordenada1\n",
    "        self.cordenada2 = cordenada2\n",
    "    \n",
    "\n",
    "    def comprimento(self):\n",
    "        return self.cordenada1[0] + self.cordenada2[0] \n",
    "\n",
    "    def inclinacao(self):\n",
    "        return self.cordenada1[1] + self.cordenada2[1] \n",
    "    \n",
    "    def __str__(self):\n",
    "        return \"Comprimento: %s, Inclinação: %s\" %(self.comprimento(),self.inclinacao())\n",
    "\n",
    "reta = Linha((50,9), (70,20))"
   ]
  },
  {
   "cell_type": "code",
   "execution_count": 112,
   "metadata": {},
   "outputs": [
    {
     "name": "stdout",
     "output_type": "stream",
     "text": [
      "Comprimento: 120, Inclinação: 29\n"
     ]
    }
   ],
   "source": [
    "print(reta)"
   ]
  },
  {
   "cell_type": "markdown",
   "metadata": {},
   "source": [
    "### 8 Figuras: Crie a seguinte hierarquia de classes de figuras geométricas."
   ]
  },
  {
   "cell_type": "code",
   "execution_count": 120,
   "metadata": {},
   "outputs": [],
   "source": [
    "class Figura:\n",
    "    def __init__(self):\n",
    "        print(\"Figura criada\")\n",
    "\n",
    "    def area(self):\n",
    "        pass\n",
    "        \n",
    "class Circulo(Figura):\n",
    "    def __init__(self, raio):\n",
    "        self.raio = raio\n",
    "        Figura.__init__(self)\n",
    "        print(\"Circulo criado\")\n",
    "        \n",
    "    def area(self):\n",
    "        return (self.raio**2) * 3.14\n",
    "    \n"
   ]
  },
  {
   "cell_type": "code",
   "execution_count": 121,
   "metadata": {},
   "outputs": [
    {
     "name": "stdout",
     "output_type": "stream",
     "text": [
      "Figura criada\n",
      "Circulo criado\n",
      "12.56\n"
     ]
    }
   ],
   "source": [
    "circulo = Circulo(2)\n",
    "print(circulo.area())"
   ]
  },
  {
   "cell_type": "code",
   "execution_count": null,
   "metadata": {},
   "outputs": [],
   "source": []
  }
 ],
 "metadata": {
  "kernelspec": {
   "display_name": "Python 3",
   "language": "python",
   "name": "python3"
  },
  "language_info": {
   "codemirror_mode": {
    "name": "ipython",
    "version": 3
   },
   "file_extension": ".py",
   "mimetype": "text/x-python",
   "name": "python",
   "nbconvert_exporter": "python",
   "pygments_lexer": "ipython3",
   "version": "3.7.3"
  }
 },
 "nbformat": 4,
 "nbformat_minor": 2
}
