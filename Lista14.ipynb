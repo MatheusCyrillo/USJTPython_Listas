{
 "cells": [
  {
   "cell_type": "markdown",
   "metadata": {},
   "source": [
    "### Lista 14\n",
    "### Nome: Matheus Roberto Cyrillo\n",
    "### RA: 819158551"
   ]
  },
  {
   "cell_type": "markdown",
   "metadata": {},
   "source": [
    "\n",
    "1 Defina a função soma_nat que recebe como argumento um número natural n e devolve a soma de todos os números naturais até n.\n",
    "\n",
    "Ex: soma_nat(5) = 15"
   ]
  },
  {
   "cell_type": "code",
   "execution_count": 7,
   "metadata": {},
   "outputs": [
    {
     "name": "stdout",
     "output_type": "stream",
     "text": [
      "15\n"
     ]
    }
   ],
   "source": [
    "def maybe(fnc):\n",
    "    def inner(*args):\n",
    "        \n",
    "        for a in args:\n",
    "            if isinstance(a, Exception):\n",
    "                return a\n",
    "        try:\n",
    "            return fnc(*args)\n",
    "        except Exception as e:\n",
    "            return 'O parametro não é um número inteiro'\n",
    "    return inner\n",
    "\n",
    "soma_nat = lambda n: 1 if n == 1 else n + soma_nat(n-1)\n",
    "safe_soma_nat = maybe(soma_nat)\n",
    "\n",
    "\n",
    "print(safe_soma_nat(5))"
   ]
  },
  {
   "cell_type": "markdown",
   "metadata": {},
   "source": [
    "2 Defina a função div que recebe como argumentos dois números naturais m e n e devolve o resultado da divisão inteira de m por n. Neste exercício você não pode recorrer às operações aritméticas de multiplicação, divisão e resto da divisão inteira.\n",
    "\n",
    "Ex: div(7,2) = 3"
   ]
  },
  {
   "cell_type": "code",
   "execution_count": 8,
   "metadata": {},
   "outputs": [
    {
     "name": "stdout",
     "output_type": "stream",
     "text": [
      "3\n"
     ]
    }
   ],
   "source": [
    "def maybe(fnc):\n",
    "    def inner(*args):\n",
    "        \n",
    "        for a in args:\n",
    "            if isinstance(a, Exception):\n",
    "                return a\n",
    "        try:\n",
    "            return fnc(*args)\n",
    "        except Exception as e:\n",
    "            return 'número válido'\n",
    "    return inner\n",
    "\n",
    "div = lambda m,n,i=0: i if m < n else div(m-n,n,i+1) \n",
    "safe_div = maybe(div)\n",
    "\n",
    "\n",
    "print(safe_div(7,2))"
   ]
  },
  {
   "cell_type": "markdown",
   "metadata": {},
   "source": [
    "3 Defina a função prim_alg que recebe como argumento um número natural e devolve o primeiro algarismo (o mais significativo) na representação decimal de n.\n",
    "\n",
    "Ex: prim_alg(5649) = 5 Ex: prim_alg(7) = 7"
   ]
  },
  {
   "cell_type": "code",
   "execution_count": 9,
   "metadata": {},
   "outputs": [
    {
     "name": "stdout",
     "output_type": "stream",
     "text": [
      "5\n"
     ]
    }
   ],
   "source": [
    "def maybe(fnc):\n",
    "    \n",
    "    def inner(*args):\n",
    "        \n",
    "        for a in args:\n",
    "            if isinstance(a, Exception):\n",
    "                return a\n",
    "        try:\n",
    "            return fnc(*args)\n",
    "        except Exception as e:\n",
    "            return 'número inválido'\n",
    "    return inner\n",
    "\n",
    "prim_alg = lambda n: str(n)[0]\n",
    "\n",
    "safe_prim_alg = maybe(prim_alg)\n",
    "\n",
    "print(safe_prim_alg(5649))"
   ]
  },
  {
   "cell_type": "markdown",
   "metadata": {},
   "source": [
    "4 Defina a função prod_lista que recebe como argumento uma lista de inteiros e devolve o produto dos seus elementos.\n",
    "\n",
    "Ex: prod_lista([1,2,3,4,5,6]) = 720"
   ]
  },
  {
   "cell_type": "code",
   "execution_count": 10,
   "metadata": {},
   "outputs": [
    {
     "name": "stdout",
     "output_type": "stream",
     "text": [
      "720\n"
     ]
    }
   ],
   "source": [
    "def maybe(fnc):\n",
    "    \n",
    "    def inner(*args):\n",
    "        \n",
    "        for a in args:\n",
    "            if isinstance(a, Exception):\n",
    "                return a\n",
    "        try:\n",
    "            return fnc(*args)\n",
    "        except Exception as e:\n",
    "            return fnc(1,args[1])\n",
    "    return inner\n",
    "\n",
    "prod = lambda a,b: a*b\n",
    "safe_prod = maybe(prod)\n",
    "safe_prod_lista = lambda lista: 1 if len(lista) == 0 else safe_prod(lista.pop(),safe_prod_lista(lista))\n",
    "\n",
    "print(safe_prod_lista([1,2,3,{},4,5,6]))"
   ]
  },
  {
   "cell_type": "markdown",
   "metadata": {},
   "source": [
    "\n",
    "5 Defina a função contem_parQ que recebe como argumento uma lista de números inteiros w e devolve True se w contém um número par e False em caso contrário.\n",
    "\n",
    "Ex: contem_parQ([2,3,1,2,3,4]) = True\n",
    "Ex: contem_parQ([1,3,5,7]) = False"
   ]
  },
  {
   "cell_type": "code",
   "execution_count": 11,
   "metadata": {},
   "outputs": [
    {
     "name": "stdout",
     "output_type": "stream",
     "text": [
      "True\n"
     ]
    }
   ],
   "source": [
    "\n",
    "def maybe(fnc):\n",
    "    \n",
    "    def inner(*args):\n",
    "        \n",
    "        for a in args:\n",
    "            if isinstance(a, Exception):\n",
    "                return a\n",
    "        try:\n",
    "            return fnc(*args)\n",
    "        except Exception as e:\n",
    "            return fnc([])\n",
    "    return inner\n",
    "\n",
    "contem_parQ = lambda w: False if len(w)==0 else True if w.pop()%2==0 else contem_parQ(w)\n",
    "safe_contem_parQ = maybe(contem_parQ)\n",
    "\n",
    "print(safe_contem_parQ([2,3,1,2,3,4]))"
   ]
  },
  {
   "cell_type": "markdown",
   "metadata": {},
   "source": [
    "\n",
    "6 Defina a função todos_imparesQ que recebe como argumento uma lista de números inteiros w e devolve True se w contém apenas números ímpares e False em caso contrário.\n",
    "\n",
    "Ex: todos_imparesQ([1,3,5,7]) = True\n",
    "Ex: todos_imparesQ([]) = True\n",
    "Ex: todos_imparesQ([1,2,3,4,5]) = False"
   ]
  },
  {
   "cell_type": "code",
   "execution_count": 24,
   "metadata": {},
   "outputs": [
    {
     "name": "stdout",
     "output_type": "stream",
     "text": [
      "True\n"
     ]
    }
   ],
   "source": [
    "def maybe(fnc):\n",
    "    \n",
    "    def inner(*args):\n",
    "        \n",
    "        for a in args:\n",
    "            if isinstance(a, Exception):\n",
    "                return a\n",
    "        try:\n",
    "            return fnc(*args)\n",
    "        except Exception as e:\n",
    "            return fnc([])\n",
    "    return inner\n",
    "\n",
    "todos_imparesQ = lambda w: True if len(w) == 0 else False if w.pop()%2==0 else todos_imparesQ(w)\n",
    "safe_todos_imparesQ = maybe(todos_imparesQ)\n",
    "\n",
    "print(safe_todos_imparesQ([1,3,5,7]))"
   ]
  },
  {
   "cell_type": "markdown",
   "metadata": {},
   "source": [
    "7 Defina a função pertenceQ que recebe como argumentos uma lista de números inteiros w e um número inteiro n e devolve True se n ocorre em w e False em caso contrário.\n",
    "\n",
    "Ex: pertenceQ([1,2,3],1) = True\n",
    "Ex: pertenceQ([1,2,3],2) = True\n",
    "Ex: pertenceQ([1,2,3],3) = True\n",
    "Ex: pertenceQ([1,2,3],4) = False"
   ]
  },
  {
   "cell_type": "code",
   "execution_count": 25,
   "metadata": {},
   "outputs": [
    {
     "name": "stdout",
     "output_type": "stream",
     "text": [
      "True\n"
     ]
    }
   ],
   "source": [
    "def maybe(fnc):\n",
    "    \n",
    "    def inner(*args):\n",
    "        \n",
    "        for a in args:\n",
    "            if isinstance(a, Exception):\n",
    "                return a\n",
    "        try:\n",
    "            return fnc(*args)\n",
    "        except Exception as e:\n",
    "            return 'numero invalido'\n",
    "    return inner\n",
    "\n",
    "pertenceQ = lambda w,n: True if n in w else False \n",
    "safe_pertenceQ = maybe(pertenceQ)\n",
    "\n",
    "print(safe_pertenceQ([1,2,{},3],{}))"
   ]
  },
  {
   "cell_type": "markdown",
   "metadata": {},
   "source": [
    "8 Defina a função junta que recebe como argumentos duas listas de números inteiros w1 e w2 e devolve a concatenação de w1 com w2 .\n",
    "\n",
    "Ex: junta([1,2,3],[4,5,6]) = [1, 2, 3, 4, 5, 6]\n",
    "Ex: junta([],[4,5,6]) = [4, 5, 6]\n",
    "Ex: junta([1,2,3],[]) = [1, 2, 3]"
   ]
  },
  {
   "cell_type": "code",
   "execution_count": 26,
   "metadata": {},
   "outputs": [
    {
     "name": "stdout",
     "output_type": "stream",
     "text": [
      "[1, 2, 3, 4, 5, 6]\n"
     ]
    }
   ],
   "source": [
    "def maybe(fnc):\n",
    "    \n",
    "    def inner(*args):\n",
    "        \n",
    "        for a in args:\n",
    "            if isinstance(a, Exception):\n",
    "                return a\n",
    "        try:\n",
    "            return fnc(*args)\n",
    "        except Exception as e:\n",
    "            return 'Parametros inválidos'\n",
    "    return inner\n",
    "\n",
    "junta_aux = lambda v, w: [v.append(i) for i in w]\n",
    "junta = lambda v, w: v if len(w) == 0 else w if len(v) == 0 else v if len(junta_aux(v, w)) == len(w) else v\n",
    "\n",
    "safe_junta = maybe(junta)\n",
    "\n",
    "print(safe_junta([1,2,3],[4,5,6]))"
   ]
  },
  {
   "cell_type": "markdown",
   "metadata": {},
   "source": [
    "9 Defina a função temPrimoQ que recebe como argumento uma lista de listas de números inteiros w e devolve True se alguma das sublistas w tem um número primo e False em caso contrário.\n",
    "\n",
    "Ex: temPrimoQ([[4,4,4,4],[5,4,6,7],[2,4,3]]) = True\n",
    "Ex: temPrimoQ([[4,4,4,4],[4,4,4],[],[4]]) = False"
   ]
  },
  {
   "cell_type": "code",
   "execution_count": 27,
   "metadata": {},
   "outputs": [
    {
     "name": "stdout",
     "output_type": "stream",
     "text": [
      "True\n"
     ]
    }
   ],
   "source": [
    "def maybe(fnc):\n",
    "    \n",
    "    def inner(*args):\n",
    "        \n",
    "        for a in args:\n",
    "            if isinstance(a, Exception):\n",
    "                return a\n",
    "        try:\n",
    "            return fnc(*args)\n",
    "        except Exception as e:\n",
    "            return 'numero invalido'\n",
    "    return inner\n",
    "\n",
    "primo = lambda n: len([i for i in range(2,n) if n%i==0])==0 \n",
    "extrai_lista = lambda w: None if len(w)==0 else w.pop()\n",
    "lista_primo = lambda v: False if v == None or len(v)==0 else True if primo(v.pop()) else lista_primo(v)\n",
    "temPrimoQ = lambda w: True if lista_primo(extrai_lista(w)) else False if len(w) == 0 else temPrimoQ(w)\n",
    "safe_temPrimoQ = maybe(temPrimoQ)\n",
    "\n",
    "print(temPrimoQ([[2]]))"
   ]
  },
  {
   "cell_type": "markdown",
   "metadata": {},
   "source": [
    "10 Defina a função inverteLista que recebe como argumento uma lista w e devolve a mesma lista mas invertida.\n",
    "\n",
    "Ex: inverteLista([1,2,3,4,5]) = [5, 4, 3, 2, 1]\n",
    "Ex: inverteLista([])"
   ]
  },
  {
   "cell_type": "code",
   "execution_count": 28,
   "metadata": {},
   "outputs": [
    {
     "name": "stdout",
     "output_type": "stream",
     "text": [
      "[5, 4, 3, 2, 1]\n"
     ]
    }
   ],
   "source": [
    "def maybe(fnc):\n",
    "    \n",
    "    def inner(*args):\n",
    "        \n",
    "        for a in args:\n",
    "            if isinstance(a, Exception):\n",
    "                return a\n",
    "        try:\n",
    "            return fnc(*args)\n",
    "        except Exception as e:\n",
    "            return 'numeroo inválido'\n",
    "    return inner\n",
    "\n",
    "inverteLista = lambda w: w[::-1]\n",
    "safe_inverteLista = maybe(inverteLista)\n",
    "\n",
    "\n",
    "print(safe_inverteLista([1,2,3,4,5]))"
   ]
  },
  {
   "cell_type": "code",
   "execution_count": null,
   "metadata": {},
   "outputs": [],
   "source": []
  },
  {
   "cell_type": "code",
   "execution_count": null,
   "metadata": {},
   "outputs": [],
   "source": []
  },
  {
   "cell_type": "code",
   "execution_count": null,
   "metadata": {},
   "outputs": [],
   "source": []
  },
  {
   "cell_type": "code",
   "execution_count": null,
   "metadata": {},
   "outputs": [],
   "source": []
  }
 ],
 "metadata": {
  "kernelspec": {
   "display_name": "Python 3",
   "language": "python",
   "name": "python3"
  },
  "language_info": {
   "codemirror_mode": {
    "name": "ipython",
    "version": 3
   },
   "file_extension": ".py",
   "mimetype": "text/x-python",
   "name": "python",
   "nbconvert_exporter": "python",
   "pygments_lexer": "ipython3",
   "version": "3.7.3"
  }
 },
 "nbformat": 4,
 "nbformat_minor": 2
}
