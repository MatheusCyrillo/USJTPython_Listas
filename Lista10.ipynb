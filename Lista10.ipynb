{
 "cells": [
  {
   "cell_type": "markdown",
   "metadata": {},
   "source": [
    "### Lista 10\n",
    "### Nome: Matheus Roberto Cyrillo\n",
    "### RA: 819158551"
   ]
  },
  {
   "cell_type": "markdown",
   "metadata": {},
   "source": [
    "### 1. Faça um Programa que peça dois números e imprima o maior deles."
   ]
  },
  {
   "cell_type": "code",
   "execution_count": 1,
   "metadata": {},
   "outputs": [
    {
     "name": "stdout",
     "output_type": "stream",
     "text": [
      "Digite um numero: 2\n",
      "Digite outro numero: 5\n",
      "Maior numero 5\n"
     ]
    }
   ],
   "source": [
    "n1 = int(input(\"Digite um numero: \"))\n",
    "n2 = int(input(\"Digite outro numero: \"))\n",
    "\n",
    "if n1 > n2:\n",
    "    print(f\"Maior numero {n1}\")\n",
    "else:\n",
    "    print(f\"Maior numero {n2}\")"
   ]
  },
  {
   "cell_type": "markdown",
   "metadata": {},
   "source": [
    "### 2. Faça um Programa que verifique se uma letra digitada é vogal ou consoante."
   ]
  },
  {
   "cell_type": "code",
   "execution_count": 6,
   "metadata": {},
   "outputs": [
    {
     "name": "stdout",
     "output_type": "stream",
     "text": [
      "Digite uma letra: a\n",
      "A letra a e uma vogal\n"
     ]
    }
   ],
   "source": [
    "vogal = ['A', 'E', 'I', 'O', 'U']\n",
    "\n",
    "letra = input(\"Digite uma letra: \")\n",
    "\n",
    "if letra.upper() in vogal:\n",
    "    print(f\"A letra {letra} e uma vogal\")\n",
    "else:\n",
    "    print(f\"A letra {letra} nao e uma vogal\")"
   ]
  },
  {
   "cell_type": "markdown",
   "metadata": {},
   "source": [
    "### 3. Faça um programa para a leitura de duas notas parciais de um aluno. O programa deve calcular a média alcançada por aluno e apresentar:"
   ]
  },
  {
   "cell_type": "code",
   "execution_count": null,
   "metadata": {},
   "outputs": [],
   "source": [
    "nota1 = float(input(\"Digite uma nota: \"))\n",
    "nota2 = float(input(\"Digite outra nota: \"))\n",
    "\n",
    "media = (nota1 + nota2 )/ 2\n",
    "\n",
    "if media >= 7 and media < 10:\n",
    "    print(\"Aprovado\")\n",
    "elif media <= 5:\n",
    "    print(\"Reprovado\")\n",
    "else:\n",
    "    print(\"Aprovado com Distinção\")"
   ]
  },
  {
   "cell_type": "markdown",
   "metadata": {},
   "source": [
    "### 4. Faça um Programa que leia três números e mostre-os em ordem decrescente."
   ]
  },
  {
   "cell_type": "code",
   "execution_count": 19,
   "metadata": {},
   "outputs": [
    {
     "name": "stdout",
     "output_type": "stream",
     "text": [
      "7 5 2\n"
     ]
    }
   ],
   "source": [
    "lista_numeros = list()\n",
    "\n",
    "n1 = 5\n",
    "n2 = 2\n",
    "n3 = 7\n",
    "\n",
    "lista_numeros = [n1, n2, n3]\n",
    "lista_numeros = sorted(lista_numeros)[::-1]\n",
    "lista_numeros = list(map(str, lista_numeros))\n",
    "\n",
    "print(' '.join(lista_numeros))\n"
   ]
  },
  {
   "cell_type": "markdown",
   "metadata": {},
   "source": [
    "### 5"
   ]
  },
  {
   "cell_type": "code",
   "execution_count": 22,
   "metadata": {},
   "outputs": [
    {
     "name": "stdout",
     "output_type": "stream",
     "text": [
      "1600 80.0 1680.0 5%\n"
     ]
    }
   ],
   "source": [
    "salario = 1600\n",
    "aumento = 0\n",
    "salario_total = 0\n",
    "percentual = \"\"\n",
    "\n",
    "if salario <= 280:\n",
    "    aumento = salario*0.20\n",
    "    salario_total = salario + aumento\n",
    "    percentual = \"20%\"\n",
    "elif salario > 280 and salario <= 700:\n",
    "    aumento = salario*0.20\n",
    "    salario_total = salario + aumento\n",
    "    percentual = \"20%\"\n",
    "elif salario > 700 and salario <= 1500:\n",
    "    aumento = salario*0.10\n",
    "    salario_total = salario + aumento\n",
    "    percentual = \"10%\"\n",
    "elif salario > 1500:\n",
    "    aumento = salario*0.05\n",
    "    salario_total = salario + aumento\n",
    "    percentual = \"5%\"\n",
    "\n",
    "print(f\"{salario} {aumento} {salario_total} {percentual}\")\n"
   ]
  },
  {
   "cell_type": "markdown",
   "metadata": {},
   "source": [
    "### 6. Faça um Programa que leia um número e exiba o dia correspondente da semana. (1-Domingo, 2- Segunda, etc.), se digitar outro valor deve aparecer valor inválido."
   ]
  },
  {
   "cell_type": "code",
   "execution_count": 2,
   "metadata": {},
   "outputs": [
    {
     "name": "stdout",
     "output_type": "stream",
     "text": [
      "Digite um numero correspondente ao dia da semana: 1\n",
      "Domingo\n"
     ]
    }
   ],
   "source": [
    "dias_semana = {1:'Domingo', 2:'Segunda', 3:'Terca', 4:'Quarta', 5:'Quinta', 6:'Sexta', 7:'Sabado'}\n",
    "\n",
    "dia = int(input(\"Digite um numero correspondente ao dia da semana: \"))\n",
    "\n",
    "if dia in dias_semana.keys():\n",
    "    print(dias_semana[dia])\n",
    "else:\n",
    "    print(\"Invalido\")"
   ]
  },
  {
   "cell_type": "markdown",
   "metadata": {},
   "source": [
    "### 7"
   ]
  },
  {
   "cell_type": "code",
   "execution_count": null,
   "metadata": {},
   "outputs": [],
   "source": [
    "\n"
   ]
  },
  {
   "cell_type": "markdown",
   "metadata": {},
   "source": [
    "### 8"
   ]
  },
  {
   "cell_type": "code",
   "execution_count": null,
   "metadata": {},
   "outputs": [],
   "source": [
    "l1 = input('Digite o tamanho do primeiro lado: ')\n",
    "l2 = input('Digite o segundo lado: ')\n",
    "l3 = input('Digite o terceiro lado: ')\n",
    "\n",
    "if l1 + l2 > l3:\n",
    "    if l1 == l2 and l1 == l3:\n",
    "        print ('Triângulo Equilátero')\n",
    "    elif l1 == l2 or l2 == l3 or l1 == l3:\n",
    "        print ('Triângulo Isósceles')\n",
    "    elif l1 != l2 and l3 or l2 != l1 and l3 or l1 != l3:\n",
    "        print ('Triângulo Escaleno')\n",
    "\n",
    "else:\n",
    "    print ('É impossivel ser um triângulo')"
   ]
  },
  {
   "cell_type": "markdown",
   "metadata": {},
   "source": [
    "### 9"
   ]
  },
  {
   "cell_type": "code",
   "execution_count": null,
   "metadata": {},
   "outputs": [],
   "source": [
    "a = float(input(\"Digite o valor de a: \"))\n",
    "delta = True\n",
    "\n",
    "if a == 0:\n",
    "    print(\"A tem q ser diferente de 0\")\n",
    "    delta = False\n",
    "else:\n",
    "    b = float(input(\"Digite o valor de b: \"))\n",
    "    c = float(input(\"Digite o valor de c: \"))\n",
    "\n",
    "if (delta):\n",
    "    eqb = 0\n",
    "    eqA = 0\n",
    "    delta = (b**2)-(4*a*c)\n",
    "    if delta <0:\n",
    "        print(\"n possui raizes reais\")\n",
    "    elif delta == 0:\n",
    "        print(\"Possui apenas uma raiz real\")\n",
    "    else:\n",
    "        eqA = -b + (delta ** 0.5) / (2*a)\n",
    "        eqB = -b - (delta ** 0.5) / (2*a)\n",
    "        print(f\"A: {eqA}, B: {eqB}\")\n",
    "        \n",
    " "
   ]
  },
  {
   "cell_type": "markdown",
   "metadata": {},
   "source": [
    "### 10"
   ]
  },
  {
   "cell_type": "code",
   "execution_count": 4,
   "metadata": {},
   "outputs": [
    {
     "name": "stdout",
     "output_type": "stream",
     "text": [
      "Digite o valor que voce quer sacar: 100\n",
      "[100]\n"
     ]
    }
   ],
   "source": [
    "valor = float(input(\"Digite o valor que voce quer sacar: \"))\n",
    "\n",
    "notas_disp = [100, 50, 10, 5, 1]\n",
    "nota = []\n",
    "\n",
    "if valor >= 10 and valor <=600:\n",
    "    count = 0\n",
    "    while valor > 0:\n",
    "        if (valor - notas_disp[count]) >= 0:\n",
    "            nota.append(notas_disp[count])\n",
    "            valor = valor - notas_disp[count]\n",
    "        else:\n",
    "            count +=1\n",
    "print(nota)\n",
    "    \n",
    "    "
   ]
  },
  {
   "cell_type": "markdown",
   "metadata": {},
   "source": [
    "### 11"
   ]
  },
  {
   "cell_type": "code",
   "execution_count": null,
   "metadata": {},
   "outputs": [],
   "source": [
    "perguntas = {'Telefonou para a vítima?':False, 'Esteve no local do crime?':False, \n",
    "             'Mora perto da vítima?':False, 'Devia para a vítima?':False, 'Já trabalhou com a vítima?':False}\n",
    "for pergunta in perguntas:\n",
    "    resposta = input(f\"{pergunta} S/N: \").upper()\n",
    "    if resposta == 'S':\n",
    "        perguntas[pergunta] = True\n",
    "respostas = sum(perguntas.values())\n",
    "\n",
    "if respostas == 2:\n",
    "    print(\"Suspeita\")\n",
    "elif respostas >2 and respostas <=4:\n",
    "    print(\"Cumplice\")\n",
    "elif respostas >4:\n",
    "    print(\"Assasino\")\n",
    "else:\n",
    "    print(\"Inocente\")\n",
    "    "
   ]
  },
  {
   "cell_type": "markdown",
   "metadata": {},
   "source": [
    "### 12"
   ]
  },
  {
   "cell_type": "code",
   "execution_count": null,
   "metadata": {},
   "outputs": [],
   "source": [
    "frutas = {'Morango':[2.50, 2.20], 'Maca':[1.80, 1.50]}\n",
    "\n",
    "kg_morango = 5\n",
    "kg_maca = 10\n",
    "\n",
    "kilos = [kg_morango, kg_maca]\n",
    "valor_total = 0\n",
    "\n",
    "for fruta, kg in zip(frutas, kilos):\n",
    "    if kg_morango > 5 or kg_maca > 5:\n",
    "        valor_total += frutas[fruta][1] * kg\n",
    "    else:\n",
    "        valor_total += frutas[fruta][0] * kg\n",
    "\n",
    "if valor_total > 25:\n",
    "    valor_total = valor_total - (valor_total*0.1)\n",
    "    \n",
    "print(f\"Valor total: {valor_total}\")"
   ]
  },
  {
   "cell_type": "markdown",
   "metadata": {},
   "source": [
    "### 13"
   ]
  },
  {
   "cell_type": "code",
   "execution_count": null,
   "metadata": {},
   "outputs": [],
   "source": [
    "while True:\n",
    "    nota = int(input(\"Digite uma nota: \"))\n",
    "    if (nota < 0 or nota > 10):\n",
    "        nota-=1\n",
    "        print(\"Nota invalida\")\n",
    "    else:\n",
    "        break"
   ]
  },
  {
   "cell_type": "markdown",
   "metadata": {},
   "source": [
    "### 14"
   ]
  },
  {
   "cell_type": "code",
   "execution_count": null,
   "metadata": {},
   "outputs": [],
   "source": [
    "validar = {\"Nome\":False, \"Idade\":False, \"Salario\":False, \"Sexo\":False, \"Estado_Civil\":False}\n",
    "\n",
    "for k, v in validar.items():\n",
    "    to_validate = input(f\"Digite seu(a) {k}: \")\n",
    "    if \"Nome\" in k:\n",
    "        if len(to_validate) > 3:\n",
    "            validar[k] = True\n",
    "    elif \"Idade\" in k:\n",
    "        if int(to_validate) > 0 and int(to_validate) <= 150:\n",
    "            validar[k] = True\n",
    "    elif \"Salario\" in k:\n",
    "        if int(to_validate) > 0:\n",
    "            validar[k] = True\n",
    "    elif \"Sexo\" in k:\n",
    "        if to_validate == \"m\" or to_validate == \"f\":\n",
    "            validar[k] = True\n",
    "    elif \"Estado_Civil\" in k:\n",
    "        if to_validate in [\"s\", \"c\", \"v\", \"d\"]:\n",
    "            validar[k] = True\n",
    "print(validar)      "
   ]
  },
  {
   "cell_type": "markdown",
   "metadata": {},
   "source": [
    "### 15"
   ]
  },
  {
   "cell_type": "code",
   "execution_count": null,
   "metadata": {},
   "outputs": [],
   "source": [
    "lista_num = list()\n",
    "\n",
    "for i in range(0,5):\n",
    "    numero = int(input(\"Digite um numero: \"))\n",
    "    lista_num.append(numero)\n",
    "\n",
    "print(max(lista_num))"
   ]
  },
  {
   "cell_type": "markdown",
   "metadata": {},
   "source": [
    "### 16"
   ]
  },
  {
   "cell_type": "code",
   "execution_count": null,
   "metadata": {},
   "outputs": [],
   "source": [
    "for i in range(1, 51):\n",
    "    if (i%2) != 0:\n",
    "        print(i)"
   ]
  },
  {
   "cell_type": "markdown",
   "metadata": {},
   "source": [
    "### 17"
   ]
  },
  {
   "cell_type": "code",
   "execution_count": null,
   "metadata": {},
   "outputs": [],
   "source": [
    "numero = int(input(\"Tabuada do: \"))\n",
    "for i in range(1, 11):\n",
    "    print(f\"{i} X {numero} = {i*numero}\")"
   ]
  },
  {
   "cell_type": "markdown",
   "metadata": {},
   "source": [
    "### 18"
   ]
  },
  {
   "cell_type": "code",
   "execution_count": null,
   "metadata": {},
   "outputs": [],
   "source": [
    "n = int(input(\"Digite o numero: \"))\n",
    "fat = 1\n",
    "x = 1\n",
    "\n",
    "while x <= n:\n",
    "    fat *= x\n",
    "    x += 1\n",
    "    \n",
    "print(fat)"
   ]
  },
  {
   "cell_type": "markdown",
   "metadata": {},
   "source": [
    "### 19"
   ]
  },
  {
   "cell_type": "code",
   "execution_count": null,
   "metadata": {},
   "outputs": [],
   "source": [
    "def fibonacci(n): \n",
    "    a = 0\n",
    "    b = 1\n",
    "    if n < 0: \n",
    "        print(\"erro\") \n",
    "    elif n == 0: \n",
    "        return a \n",
    "    elif n == 1: \n",
    "        return b \n",
    "    else: \n",
    "        for i in range(2,n): \n",
    "            c = a + b \n",
    "            a = b \n",
    "            b = c \n",
    "        return b \n",
    "n = int(input(\"Digite o numero para ver o fibonacci: \"))\n",
    "print(fibonacci(n)) "
   ]
  },
  {
   "cell_type": "markdown",
   "metadata": {},
   "source": [
    "### 20"
   ]
  },
  {
   "cell_type": "code",
   "execution_count": null,
   "metadata": {},
   "outputs": [],
   "source": [
    "def montar_tabela(preco_base):\n",
    "    tabela_precos = dict()\n",
    "    valor = preco_base\n",
    "    result = 0\n",
    "\n",
    "    for i in range(1, 51):\n",
    "        tabela_precos[i] = round((valor + result),2)\n",
    "        result += valor\n",
    "    return(tabela_precos)\n",
    "\n",
    "print(montar_tabela(1.99))\n",
    "print(montar_tabela(0.18))"
   ]
  },
  {
   "cell_type": "markdown",
   "metadata": {},
   "source": [
    "### 21"
   ]
  },
  {
   "cell_type": "code",
   "execution_count": null,
   "metadata": {},
   "outputs": [],
   "source": [
    "valor = \"\"\n",
    "produtos = dict()\n",
    "index = 1\n",
    "\n",
    "while valor != 0.0:\n",
    "    valor = float(input(\"Digite o valor de um produto: \"))\n",
    "    produtos[index] = valor\n",
    "    index +=1\n",
    "\n",
    "print(f\"Total: {sum(produtos.values())}\")\n",
    "print(f\"Produtos: {produtos}\")\n",
    "\n",
    "pagamento = float(input(\"Digite o valor recebido: \"))\n",
    "if pagamento - sum(produtos.values()) > 0:\n",
    "    print(f\"Troco: {pagamento - sum(produtos.values())}\")\n",
    "else:\n",
    "    print(\"\")\n",
    "\n"
   ]
  },
  {
   "cell_type": "markdown",
   "metadata": {},
   "source": [
    "### 23"
   ]
  },
  {
   "cell_type": "code",
   "execution_count": null,
   "metadata": {},
   "outputs": [],
   "source": [
    "\n",
    "\n",
    "        "
   ]
  },
  {
   "cell_type": "markdown",
   "metadata": {},
   "source": [
    "### 24"
   ]
  },
  {
   "cell_type": "code",
   "execution_count": null,
   "metadata": {},
   "outputs": [],
   "source": [
    "parcelas_juros = {1:0.0, 3:0.1, 6:0.15, 9:0.2, 12:0.25}\n",
    "\n",
    "preco_produto = float(input(\"Digite o preco do produto: \"))\n",
    "parcelas = int(input(\"Digite o numero de parcelas 1/3/6/9/12: \"))\n",
    "\n",
    "juros = preco_produto * parcelas_juros[parcelas]\n",
    "preco_final = preco_produto + juros\n",
    "\n",
    "valor_parcela = preco_final / parcelas\n",
    "\n",
    "print(f\"Divida: {preco_final}, Juros: {juros}, Parcelas: {parcelas}, Valor Parcela: {round(valor_parcela,2)}\")"
   ]
  },
  {
   "cell_type": "code",
   "execution_count": null,
   "metadata": {},
   "outputs": [],
   "source": []
  }
 ],
 "metadata": {
  "kernelspec": {
   "display_name": "Python 3",
   "language": "python",
   "name": "python3"
  },
  "language_info": {
   "codemirror_mode": {
    "name": "ipython",
    "version": 3
   },
   "file_extension": ".py",
   "mimetype": "text/x-python",
   "name": "python",
   "nbconvert_exporter": "python",
   "pygments_lexer": "ipython3",
   "version": "3.7.3"
  }
 },
 "nbformat": 4,
 "nbformat_minor": 2
}
